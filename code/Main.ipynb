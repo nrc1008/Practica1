{
 "cells": [
  {
   "cell_type": "markdown",
   "id": "8939c4a5-336f-41de-937f-abcf8a96b7da",
   "metadata": {},
   "source": [
    "## Main"
   ]
  },
  {
   "cell_type": "code",
   "execution_count": 1,
   "id": "f780e3b3-f60a-45b1-a552-b03016bc5e36",
   "metadata": {},
   "outputs": [],
   "source": [
    "import pydicom as dcm\n",
    "from pathlib import Path\n",
    "import tkinter as tk\n",
    "from tkinter import filedialog\n",
    "import numpy as np\n",
    "from skimage import transform, io,color\n",
    "import matplotlib.pyplot as plt\n",
    "import os\n",
    "from matplotlib import cm\n",
    "from skimage.filters import threshold_multiotsu\n",
    "from skimage import filters"
   ]
  },
  {
   "cell_type": "code",
   "execution_count": 2,
   "id": "efaeee8e-a392-4f3b-9687-aa8cdc704a0c",
   "metadata": {},
   "outputs": [
    {
     "ename": "ModuleNotFoundError",
     "evalue": "No module named 'code.LoadSlices'; 'code' is not a package",
     "output_type": "error",
     "traceback": [
      "\u001b[1;31m---------------------------------------------------------------------------\u001b[0m",
      "\u001b[1;31mModuleNotFoundError\u001b[0m                       Traceback (most recent call last)",
      "Cell \u001b[1;32mIn[2], line 1\u001b[0m\n\u001b[1;32m----> 1\u001b[0m \u001b[38;5;28;01mfrom\u001b[39;00m \u001b[38;5;21;01mcode\u001b[39;00m\u001b[38;5;21;01m.\u001b[39;00m\u001b[38;5;21;01mLoadSlices\u001b[39;00m \u001b[38;5;28;01mimport\u001b[39;00m Load_Slices\n\u001b[0;32m      2\u001b[0m \u001b[38;5;28;01mfrom\u001b[39;00m \u001b[38;5;21;01mcode\u001b[39;00m\u001b[38;5;21;01m.\u001b[39;00m\u001b[38;5;21;01mConvertirHounsfield\u001b[39;00m \u001b[38;5;28;01mimport\u001b[39;00m convertir_Hounsfield\n\u001b[0;32m      3\u001b[0m \u001b[38;5;28;01mfrom\u001b[39;00m \u001b[38;5;21;01mcode\u001b[39;00m\u001b[38;5;21;01m.\u001b[39;00m\u001b[38;5;21;01mOrientacionCorte\u001b[39;00m \u001b[38;5;28;01mimport\u001b[39;00m OrientacionCorte\n",
      "\u001b[1;31mModuleNotFoundError\u001b[0m: No module named 'code.LoadSlices'; 'code' is not a package"
     ]
    }
   ],
   "source": [
    "from code.LoadSlices import Load_Slices\n",
    "from code.ConvertirHounsfield import convertir_Hounsfield\n",
    "from code.OrientacionCorte import OrientacionCorte\n",
    "from code.CrearVolumen import CrearVolumen\n",
    "from code.MetadataCT import MetadataCT\n",
    "from code.MuestraVolumen import MuestraVolumenfrom\n",
    "from code.Paso2 import segmentacion_hounsfield\n",
    "from code.Paso2 import segmentacion_otsu\n",
    "from code.Paso2 import visualizar_segmentacion\n"
   ]
  },
  {
   "cell_type": "code",
   "execution_count": null,
   "id": "6e5a5eb0-36d1-464a-bf1b-a054d1df4c8c",
   "metadata": {},
   "outputs": [],
   "source": [
    "def main():\n",
    "    #PASO1\n",
    "    directorio_imagenes=filedialog.askdirectory(title=\"Selecciona una carpeta\")\n",
    "    lista_datasets = Load_Slices(directorio_imagenes)\n",
    "    volumen, tamaño_voxel, relacion_aspecto, volumen_voxel = CrearVolumen(lista_datasets)\n",
    "    MetadataCT(lista_datasets)\n",
    "    MuestraVolumen(volumen, tamaño_voxel, relacion_aspecto, volumen_voxel, mostrar_histograma = True)\n",
    "\n",
    "    #PASO2\n",
    "    segmentacion_hu = segmentacion_hounsfield(volumen)\n",
    "    segmentacion_otsu_result = segmentacion_otsu(volumen)\n",
    "    visualizar_segmentacion(volumen, segmentacion_hu, segmentacion_otsu_result)\n",
    "\n",
    "    #Guardar imágenes\n",
    "    def guardar_imagen(imagen, nombre):\n",
    "        plt.imsave(f\"{nombre}.png\", imagen, cmap='jet', vmin=0, vmax=6)\n",
    "    \n",
    "    corte = volumen.shape[2] // 2  # Seleccionar un corte central\n",
    "    guardar_imagen(volumen[:, :, corte], 'imagen_original')\n",
    "    guardar_imagen(segmentacion_hu[:, :, corte], 'segmentacion_hounsfield')\n",
    "    guardar_imagen(segmentacion_otsu_result[:, :, corte], 'segmentacion_otsu')\n",
    "\n",
    "\n",
    "if __name__ == \"__main__\":\n",
    "    main()"
   ]
  }
 ],
 "metadata": {
  "kernelspec": {
   "display_name": "Python 3 (ipykernel)",
   "language": "python",
   "name": "python3"
  },
  "language_info": {
   "codemirror_mode": {
    "name": "ipython",
    "version": 3
   },
   "file_extension": ".py",
   "mimetype": "text/x-python",
   "name": "python",
   "nbconvert_exporter": "python",
   "pygments_lexer": "ipython3",
   "version": "3.8.20"
  }
 },
 "nbformat": 4,
 "nbformat_minor": 5
}
