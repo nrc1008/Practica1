{
 "cells": [
  {
   "cell_type": "markdown",
   "id": "13194734-0362-46aa-bf46-fbfbdc463e34",
   "metadata": {},
   "source": [
    "## Paso 1"
   ]
  },
  {
   "cell_type": "markdown",
   "id": "cd26c584-dc34-423b-9156-75534171e5be",
   "metadata": {},
   "source": [
    "Implementar la función Load_Slices(): Permite la carga de los archivos DICOM que se encuentren en una carpeta"
   ]
  },
  {
   "cell_type": "code",
   "execution_count": 2,
   "id": "6a7a7a31-8e7c-4904-ac4c-a7e76aaf2bfd",
   "metadata": {},
   "outputs": [],
   "source": [
    "import pydicom as dcm\n",
    "from pathlib import Path\n",
    "import tkinter as tk\n",
    "from tkinter import filedialog\n",
    "import numpy as np\n",
    "\n",
    "def Load_Slices(directorio_imagenes=None):\n",
    "    archivos=[]\n",
    "    directorio_imagenes=filedialog.askdirectory(title=\"Selecciona una carpeta\")\n",
    "    \n",
    "    for aname in Path(directorio_imagenes).glob(\"*.PNG\"):\n",
    "        print(f\"Loading: {aname}\")\n",
    "        archivos.append(dcm.dcmread(aname))\n",
    "    return archivos"
   ]
  }
 ],
 "metadata": {
  "kernelspec": {
   "display_name": "Python 3 (ipykernel)",
   "language": "python",
   "name": "python3"
  },
  "language_info": {
   "codemirror_mode": {
    "name": "ipython",
    "version": 3
   },
   "file_extension": ".py",
   "mimetype": "text/x-python",
   "name": "python",
   "nbconvert_exporter": "python",
   "pygments_lexer": "ipython3",
   "version": "3.8.20"
  }
 },
 "nbformat": 4,
 "nbformat_minor": 5
}
